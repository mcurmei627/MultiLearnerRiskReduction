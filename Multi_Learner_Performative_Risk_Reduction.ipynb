{
  "cells": [
    {
      "cell_type": "markdown",
      "metadata": {
        "id": "xn8aYa3uSu9Z"
      },
      "source": [
        "## Setup\n",
        "\n",
        "We assume there are $N$ competing firms, which we will call *players*. Similarly we have $M$ groups that form different subpopulations, such that $\\mathcal{D}_j$ is the distribution of users in group $j$. Let $\\beta_j$ be the probability that a randomly selected member of the whole polulation belongs to  group $j$.\n",
        "\n",
        "We instantiate the following sequential game:\n",
        "\n",
        "- At time $t$: $\\alpha^t_j \\in \\Delta^{N}$ is the allocation vector such that $\\alpha_{ij}^t$ is the fraction of group $j$ allocated to player $i$ at time $t$.\n",
        "\n",
        "- Player $i$ observes a distribution of users: $\\mathbb{D}_i^t \\propto \\sum_{j=1}^M \\beta_j \\alpha_{ij}^t \\mathcal{D}_j$. The player thus captures $\\sum_{j=1}^M \\beta_j \\alpha_{ij}^t$ fraction of the market share. The utility of the player will henceforth assumed to be the total participation. (We can make further assumptions about whether the player knows the allocations of each group or knows the group memberships).\n",
        "\n",
        "- Player $i$ sets a decision rule parametrized by $\\theta_i^t$. One way to do that is to assume that the player perform loss minimization. At the population level this would be:\n",
        "\\begin{align}\n",
        "\\theta_i^t &= \\arg\\min_{\\theta} \\mathbb{E}_{x\\sim \\mathbb{D}_i^t}[\\ell(x, \\theta)]\\\\\n",
        "&=\\arg \\min_{\\theta}\\sum_{j=1}^M \\beta_j\\alpha^t_{ij} r_j(\\theta)\n",
        "\\end{align}\n",
        "where $r_j(\\theta) = \\mathbb{E}_{x\\sim \\mathcal{D}_j}[\\ell(x, \\theta)]$ and $\\ell$ is some loss function.\n",
        "\n",
        "If we make the assumption that the average risk experienced bu group $j$ is $r_j(\\theta) = \\Vert \\theta - \\theta_j^*\\Vert_2^2 +1$, where $\\theta_j^*$ is the optimal decision for group $j$. \n",
        "\n",
        "- Each group experiences total risk: $R^t_j = \\sum_{i=1}^N \\alpha_{ij}^t r_j(\\theta^t_i)$. Based on the risk from each player, the group updates the allocations to $\\alpha_j^{t+1}$.\n",
        "  - We will make `statefull` assumptions for which we will study MWU dynamics of the form:\n",
        "\n",
        "Here we will study the stateful assumption where the weights update as:\n",
        "$$\\alpha_{ij}^{t+1} \\propto \\alpha_{ij}^t(1-\\epsilon)^{c_j(r_j(\\theta_i^t))} $$\n",
        "where $c_j$ is some sensible choice of comparison function, in experiments we will use the identity.\n",
        "\n",
        "#### Questions\n",
        "- What are the resulting dynamics:\n",
        "    - For various choices of population (size, population optimal loss, initial allocations, etc)"
      ]
    },
    {
      "cell_type": "markdown",
      "source": [
        "## Import Statements"
      ],
      "metadata": {
        "id": "XcGJhGAWnP8Q"
      }
    },
    {
      "cell_type": "code",
      "execution_count": 5,
      "metadata": {
        "id": "8KattIL9SykV"
      },
      "outputs": [],
      "source": [
        "# Plotting settings\n",
        "from matplotlib import gridspec, rc\n",
        "from matplotlib import ticker as mticker\n",
        "import matplotlib.pyplot as plt\n",
        "import seaborn as sns\n",
        "import matplotlib.colors as colors\n",
        "\n",
        "import numpy as np\n",
        "import pandas as pd\n",
        "import matplotlib.pyplot as plt\n",
        "import copy\n",
        "import cvxpy as cvx\n",
        "from numpy.random.mtrand import beta\n",
        "from tqdm.notebook import tqdm\n",
        "from sklearn.preprocessing import normalize\n",
        "\n",
        "from scipy.optimize import brent\n",
        "%matplotlib inline\n",
        "\n",
        "np.set_printoptions(precision=3, suppress=True)"
      ]
    },
    {
      "cell_type": "code",
      "execution_count": 6,
      "metadata": {
        "id": "sK9ZILztzXbU"
      },
      "outputs": [],
      "source": [
        "rc('text', usetex = False)\n",
        "rc('font', family = 'serif')\n",
        "TITLE_SIZE = 13\n",
        "LABEL_SIZE = 11\n",
        "LEGEND_TITLE_SIZE = 12\n",
        "LEGEND_SIZE = 11\n",
        "TICK_SIZE = 11\n",
        "FONT = 'serif'\n",
        "params = {}\n",
        "params['legend.title_fontsize'] = LEGEND_TITLE_SIZE\n",
        "params['axes.labelsize'] = LABEL_SIZE\n",
        "params['axes.titlesize'] = TITLE_SIZE\n",
        "params['legend.fontsize'] = LEGEND_SIZE\n",
        "params[\"xtick.labelsize\"]= TICK_SIZE\n",
        "params[\"ytick.labelsize\"] = TICK_SIZE\n",
        "params[\"font.family\"] = \"Times New Roman\"\n",
        "context = sns.plotting_context(\"paper\", rc=params)\n",
        "sns.set_theme(style=\"whitegrid\", font=FONT)"
      ]
    },
    {
      "cell_type": "markdown",
      "source": [
        "## Defining subpopulation class and player dynamics"
      ],
      "metadata": {
        "id": "tRpQOCz_nUgS"
      }
    },
    {
      "cell_type": "code",
      "execution_count": 101,
      "metadata": {
        "id": "PuHWY1fPt8_Y"
      },
      "outputs": [],
      "source": [
        "\"\"\" Subpopulations \"\"\"\n",
        "\n",
        "class SubPop():\n",
        "    def __init__(self, theta_star, beta, alphas, cov=None, sigmasq=1):\n",
        "        \"\"\" Subpopulation Class\n",
        "\n",
        "        Args:\n",
        "            theta_star (np.array): optimal decision rule for the sub-population\n",
        "            beta (float): Size of the subpopulation (absolute or relative)\n",
        "            alphas (np.array): Allocation of the sub-population to different firms\n",
        "                                must sum up to 1\n",
        "            cov (2d np.array, optional): Covariance matrix. Defaults to None.\n",
        "            sigmasq (float. optional): Risk offset. Defaults to 1.\n",
        "        \"\"\" \n",
        "        self.theta_star = theta_star\n",
        "        self.d = theta_star.size\n",
        "        self.cov = np.eye(self.d) if cov is None else cov\n",
        "        self.sigmasq = sigmasq\n",
        "        self.beta = beta\n",
        "        self.alphas = alphas\n",
        "        self.t = 0\n",
        "        self.converged = False\n",
        "        self.converged_for = 0\n",
        "\n",
        "    def min_expr(self, i):\n",
        "        # used by the i-th player\n",
        "        A = self.beta * self.alphas[i] * self.cov\n",
        "        b = self.beta * self.alphas[i] * np.dot(self.cov, self.theta_star)\n",
        "        return A, b\n",
        "    \n",
        "    def update_alpha(self, thetas, epsilon=0.1,):\n",
        "        r = [self.risk(theta) for theta in thetas]\n",
        "        new_alphas = self.alphas * np.power((1-epsilon), r)\n",
        "        new_alphas /= np.sum(new_alphas)\n",
        "        self.converged = np.allclose(new_alphas, self.alphas)\n",
        "        if self.converged:\n",
        "            self.converged_for += 1\n",
        "        self.alphas = new_alphas\n",
        "        self.t += 1 \n",
        "\n",
        "    def break_player(self, i):\n",
        "        # break player i into 2 players, add clone of i to the end\n",
        "        alphas = self.alphas\n",
        "        alphas[i] = self.alphas[i]/2\n",
        "        self.alphas = np.append(alphas, alphas[i])\n",
        "        self.converged = False\n",
        "        self.converged_for = 0\n",
        "\n",
        "    def risk(self, theta):\n",
        "        return(np.linalg.norm(np.dot(self.cov, theta - self.theta_star))**2 + self.sigmasq)\n",
        "\n",
        "class QuadraticSubPop(SubPop):\n",
        "    def __init__(self, *args, **kwargs):\n",
        "        super(QuadraticSubPop, self).__init__(*args, **kwargs)\n",
        "        self.kind = 'quadratic'\n",
        "\n",
        "\n",
        "class EmpiricalSubPop(SubPop):\n",
        "    def __init__(self, *args,  N=100, **kwargs):\n",
        "        super(EmpiricalSubPop, self).__init__(*args, **kwargs)\n",
        "        self.N = N\n",
        "        self.kind = 'empirical'\n",
        "        self.make_data()\n",
        "        self.theta_star_emp = np.dot(np.linalg.pinv(self.xs), self.ys).flatten()\n",
        "\n",
        "\n",
        "    def make_data(self):\n",
        "        self.xs = np.random.multivariate_normal(np.zeros(self.d), self.cov, size=self.N)\n",
        "        self.ys = np.array([np.dot(self.theta_star, x)+\n",
        "                       np.random.normal(0, scale=np.sqrt(self.sigmasq)) for x in self.xs])\n",
        "\n",
        "    def min_expr(self, i):\n",
        "        A = self.beta*self.alphas[i] * self.xs\n",
        "        b = self.beta*self.alphas[i] * self.ys\n",
        "        return A, b\n",
        "    \n",
        "    def risk(self, theta):\n",
        "        return np.linalg.norm(self.xs @ theta - self.ys)**2/self.N"
      ]
    },
    {
      "cell_type": "code",
      "execution_count": 102,
      "metadata": {
        "id": "OexGy6H5HU7S"
      },
      "outputs": [],
      "source": [
        "def quadratic_min(subpops, i):\n",
        "    b_list = []\n",
        "    A_list = []\n",
        "    for subpop in subpops:\n",
        "        A, b = subpop.min_expr(i)\n",
        "        A_list.append(A); b_list.append(b)\n",
        "    A = np.sum(A_list, axis=0)\n",
        "    b = np.sum(b_list, axis=0)\n",
        "    return np.dot(np.linalg.pinv(A), b).flatten()\n",
        "\n",
        "def noisy_quadratic_min(subpops, i):\n",
        "    noiseless_theta = quadratic_min(subpops, i)\n",
        "    var = np.var(noiseless_theta)\n",
        "    noise = np.random.normal(size=noiseless_theta.shape, scale=0.0001*var)\n",
        "    return noise+noiseless_theta\n",
        "\n",
        "def player_decisions(subpops, current = None, min_fn=quadratic_min):\n",
        "    '''alpha[i,j] <- fraction of group j allocated to player i'''\n",
        "    n_players = len(subpops[0].alphas)\n",
        "    n_groups = len(subpops)\n",
        "    new_thetas = []\n",
        "    for i in range(n_players):\n",
        "        if current is None or current == i:\n",
        "            theta_i = min_fn(subpops, i)\n",
        "            new_thetas.append(theta_i)\n",
        "    return new_thetas\n",
        "\n",
        "def get_all_risks(thetas, subpops, weighted_alpha=True, weighted_beta=True):\n",
        "    n_players = len(thetas)\n",
        "    n_groups = len(subpops)\n",
        "    r = np.zeros((n_players, n_groups))\n",
        "    for i in range(n_players):\n",
        "        for j in range(n_groups):\n",
        "            r[i,j] = subpops[j].risk(thetas[i])\n",
        "            if weighted_alpha:\n",
        "                r[i,j] *= subpops[j].alphas[i]\n",
        "            if weighted_beta:\n",
        "                r[i,j] *= subpops[j].beta\n",
        "    return r\n",
        "\n",
        "def group_decisions(thetas, subpops, epsilon = 0.1):\n",
        "    [subpop.update_alpha(thetas, epsilon) for subpop in subpops]\n",
        "    return np.array([subpop.alphas for subpop in subpops])\n",
        "\n",
        "def average_risk_group(thetas, subpops):\n",
        "    r = get_all_risks(thetas, subpops, weighted_alpha=True)\n",
        "    return np.sum(r, 0)\n",
        "\n",
        "def average_risk_player(thetas, subpops):\n",
        "    r = get_all_risks(thetas, subpops, weighted_alpha=True, weighted_beta=True)\n",
        "    return np.sum(r, 1)\n",
        "\n",
        "def player_share(subpops):\n",
        "    n_players = len(subpops[0].alphas)\n",
        "    return [np.sum([s.alphas[i]*s.beta for s in subpops]) for i in range(n_players)]\n",
        "\n",
        "def convergent_count(subpops):\n",
        "    c_counts = [subpop.converged_for for subpop in subpops]\n",
        "    return c_counts\n"
      ]
    },
    {
      "cell_type": "markdown",
      "source": [
        "## Dynamics Simulation"
      ],
      "metadata": {
        "id": "eFrPj0D6ti17"
      }
    },
    {
      "cell_type": "code",
      "source": [
        "def run_experiment(T, subpops, rr=False, min_fn=quadratic_min, early_stop=False, verbose = True):\n",
        "    n_players = len(subpops[0].alphas)\n",
        "    if verbose:\n",
        "        print(\"Initial Conditions:\")\n",
        "        print(f\"There are {n_players} initial players\")\n",
        "        print(f\"Group splits: {[s.beta for s in subpops]}\")\n",
        "        print(f\"Initial allocations: {[s.alphas for s in subpops]}\")\n",
        "        print(f\"Optimal decisions theta for each group (row-wise) {[s.theta_star for s in subpops]}\")\n",
        "    average_risks_group = []\n",
        "    average_risks_player = []\n",
        "    all_risks = []\n",
        "    all_thetas = []\n",
        "    all_alphas = []\n",
        "    for t in range(T):\n",
        "        if rr and t>0:\n",
        "            player = t%n_players\n",
        "            theta_player = np.array(player_decisions(subpops, current=player))\n",
        "            thetas[player] = theta_player\n",
        "            thetas = copy.deepcopy(thetas)\n",
        "            all_thetas.append(thetas)\n",
        "        else:\n",
        "            thetas = np.array(player_decisions(subpops,  min_fn=min_fn))\n",
        "        alpha = group_decisions(thetas, subpops)\n",
        "        all_thetas.append(thetas)\n",
        "        all_alphas.append(alpha.T)\n",
        "        risks = get_all_risks(thetas, subpops)\n",
        "        all_risks.append(risks)\n",
        "        a_risk_group = average_risk_group(thetas, subpops)\n",
        "        average_risks_group.append(a_risk_group)\n",
        "        a_risk_player = average_risk_player(thetas, subpops)\n",
        "        average_risks_player.append(a_risk_player)\n",
        "        if early_stop:\n",
        "            c_counts = convergent_count(subpops)\n",
        "            if min(c_counts) > 20:\n",
        "                break\n",
        "    if verbose:\n",
        "        print(\"Final Conditions:\")\n",
        "        print(f'\\t\\tPlayers decisions: {thetas}')\n",
        "        print(f'\\t\\tGroup allocations: {alpha}')\n",
        "    return(average_risks_group, average_risks_player, all_risks, all_thetas, all_alphas) "
      ],
      "metadata": {
        "id": "TTceX-r5tnIu"
      },
      "execution_count": 103,
      "outputs": []
    },
    {
      "cell_type": "markdown",
      "source": [
        "## Figure 1: Risk profiles over time"
      ],
      "metadata": {
        "id": "FU-nC530njwC"
      }
    },
    {
      "cell_type": "code",
      "execution_count": 104,
      "metadata": {
        "id": "Y-eywQkNHawe"
      },
      "outputs": [],
      "source": [
        "def plot_experiment(average_risks_group, average_risks_player, all_risks, all_thetas, all_alphas):\n",
        "    \n",
        "    n_players, n_groups = all_risks.shape\n",
        "    n_cols = max(n_players, n_groups)+1\n",
        "    fig, ax = plt.subplots(2, n_cols, figsize = (6*n_cols,12))\n",
        "    # Group allocation\n",
        "    for group in range(n_groups):\n",
        "        print(n_players)\n",
        "        for player in range(n_players):\n",
        "            ax[0,group].plot([a[player,group] for a in all_alphas], label = f\"% allocated to Player {player + 1}\")\n",
        "            ax[0,group].set_xlabel('Timestep (t)')\n",
        "            ax[0,group].set_ylabel('% group')\n",
        "            ax[0,group].set_title(f'Group {group+1}')\n",
        "            ax[0,group].legend()\n",
        "\n",
        "        # Average Losses of the groups\n",
        "        ax[0,n_cols-1].plot([a[group] for a in average_risks_group], label = f\"Group {group + 1}\")\n",
        "        ax[0,n_cols-1].set_xlabel('Timestep (t)')\n",
        "        ax[0,n_cols-1].set_ylabel('Risk')\n",
        "        ax[0,n_cols-1].set_title('Average Group risk over time')\n",
        "        ax[0,n_cols-1].legend()\n",
        "\n",
        "    # Player portfolio\n",
        "    for player in range(n_players):     \n",
        "        for group in range(n_groups):\n",
        "            ax[1,player].plot([a[player,group] for a in all_alphas], label = f\"% of group {group + 1} currently allocated\")\n",
        "            ax[1,player].set_xlabel('Timestep (t)')\n",
        "            ax[1,player].set_ylabel('% player')\n",
        "            ax[1,player].set_title(f'Player {player+1}')\n",
        "            ax[1,player].legend()\n",
        "           \n",
        "        # Player Utilities (Market Share)\n",
        "        ax[1,n_cols-1].plot([a[player] for a in average_risks_player], label = f\"Player {player + 1}\")\n",
        "        ax[1,n_cols-1].set_xlabel('Timestep (t)')\n",
        "        ax[1,n_cols-1].set_ylabel('Risk')\n",
        "        ax[1,n_cols-1].set_title('Average player risk over time')\n",
        "        ax[1,n_cols-1].legend()\n",
        "    \n",
        "    # Remove unnecesary axis:\n",
        "    if n_players > n_groups:\n",
        "        for group in range(n_groups, n_players):\n",
        "            ax[0, group].set_axis_off()\n",
        "    if n_groups > n_players:\n",
        "        for player in range(n_players, n_groups):\n",
        "            ax[1, player].set_axis_off()\n",
        "    plt.show()\n",
        "    "
      ]
    },
    {
      "cell_type": "code",
      "execution_count": 105,
      "metadata": {
        "id": "Pw-1H6uVzXbY"
      },
      "outputs": [],
      "source": [
        "def plot_short_experiment(average_risks_group, average_risks_player, all_risks, axs, ls= '-', lw=2, legend = False):\n",
        "    \n",
        "    n_players, n_groups = all_risks[0].shape\n",
        "    c = ['tab:blue', 'tab:orange', 'tab:green']\n",
        "    for group in range(n_groups-2):\n",
        "        # Average Losses of the groups\n",
        "        axs[0].plot([a[group] for a in average_risks_group], color = c[group], ls= ls, lw=lw,label = f\"Subpop {group + 1}\")\n",
        "        axs[0].set_xlabel('Time t')\n",
        "        axs[0].set_ylabel('Risk')\n",
        "        axs[0].set_title('Average Subpopulation risk over time')\n",
        "        if legend:\n",
        "            axs[0].legend()\n",
        "\n",
        "\n",
        "    for player in range(n_players-1):     \n",
        "        # Player Risks\n",
        "        player = player-1\n",
        "        axs[1].plot([a[player] for a in average_risks_player], color = c[player], ls= ls, lw=lw , label = f\"Learner {player + 1}\")\n",
        "        axs[1].set_xlabel('Time t')\n",
        "        axs[1].set_ylabel('Risk')\n",
        "        axs[1].set_title('Average Learner risk over time')\n",
        "        if legend:\n",
        "            axs[1].legend()\n",
        "    \n",
        "    total_risk = [np.sum(round_risks) for round_risks in all_risks]\n",
        "    axs[2].plot(total_risk, ls= ls, lw=lw+1, c = 'k')\n",
        "    axs[2].set_xlabel('Time t')\n",
        "    axs[2].set_ylabel('Risk')\n",
        "    axs[2].set_title('Total risk over time')\n",
        "    #axs[1].legend()\n",
        "    "
      ]
    },
    {
      "cell_type": "code",
      "execution_count": 106,
      "metadata": {
        "id": "NEGnCtV8Hg2N"
      },
      "outputs": [],
      "source": [
        "def run_trial(allocation=None):\n",
        "    T = 500\n",
        "    # relative sizes\n",
        "    beta_1 = 1\n",
        "    beta_2 = 1 \n",
        "    beta_3 = 1\n",
        "    # beta = np.array([beta_1, beta_2])\n",
        "    # initial allocations\n",
        "    dist = np.array([[0.01, 0.02, -0.04], [-0.01,-0.01, 0.02]])\n",
        "    dist = np.random.rand(2,3)*0.1\n",
        "    alpha = np.array([[1,1, 1], [1,1, 1]]) + dist\n",
        "    # alpha_ij <- fraction of group j going to firm i\n",
        "    alpha =  normalize(alpha, axis=0, norm='l1')\n",
        "    if allocation is not None:\n",
        "        alpha = allocation\n",
        "    print(alpha)\n",
        "    # optimal thetas for each group\n",
        "    theta_star_1 = np.array([0, 1])\n",
        "    theta_star_2 = np.array([1, 1])\n",
        "    theta_star_3 = np.array([0.6, 0])\n",
        "    # theta_star = np.array([theta_star_1, theta_star_2])\n",
        "\n",
        "    pop1 = QuadraticSubPop(theta_star_1, beta_1, alpha[:,0])\n",
        "    pop2 = QuadraticSubPop(theta_star_2, beta_2, alpha[:,1])\n",
        "    pop3 = QuadraticSubPop(theta_star_3, beta_3, alpha[:,2])\n",
        "    subpops = [pop1, pop2, pop3]\n",
        "\n",
        "    # Run dynamics and create plots\n",
        "    (average_risks_group, average_risks_player, all_risks, all_thetas, all_alphas) = run_experiment(T, subpops, min_fn=noisy_quadratic_min, rr=False)\n",
        "    \n",
        "    return(average_risks_group, average_risks_player, all_risks)\n"
      ]
    },
    {
      "cell_type": "code",
      "execution_count": 107,
      "metadata": {
        "colab": {
          "base_uri": "https://localhost:8080/",
          "height": 1000
        },
        "id": "8-V6NDpkzXbb",
        "outputId": "5ea5adef-6b24-41dc-ccb2-3d96b5c08566"
      },
      "outputs": [
        {
          "output_type": "stream",
          "name": "stdout",
          "text": [
            "[[0.5 0.5 0.5]\n",
            " [0.5 0.5 0.5]]\n",
            "Initial Conditions:\n",
            "There are 2 initial players\n",
            "Group splits: [1, 1, 1]\n",
            "Initial allocations: [array([0.5, 0.5]), array([0.5, 0.5]), array([0.5, 0.5])]\n",
            "Optimal decisions theta for each group (row-wise) [array([0, 1]), array([1, 1]), array([0.6, 0. ])]\n",
            "Final Conditions:\n",
            "\t\tPlayers decisions: [[0.5 1. ]\n",
            " [0.6 0. ]]\n",
            "\t\tGroup allocations: [[1. 0.]\n",
            " [1. 0.]\n",
            " [0. 1.]]\n",
            "[[0.496 0.511 0.498]\n",
            " [0.504 0.489 0.502]]\n",
            "Initial Conditions:\n",
            "There are 2 initial players\n",
            "Group splits: [1, 1, 1]\n",
            "Initial allocations: [array([0.496, 0.504]), array([0.511, 0.489]), array([0.498, 0.502])]\n",
            "Optimal decisions theta for each group (row-wise) [array([0, 1]), array([1, 1]), array([0.6, 0. ])]\n",
            "Final Conditions:\n",
            "\t\tPlayers decisions: [[1.  1. ]\n",
            " [0.3 0.5]]\n",
            "\t\tGroup allocations: [[0. 1.]\n",
            " [1. 0.]\n",
            " [0. 1.]]\n",
            "[[0.501 0.491 0.494]\n",
            " [0.499 0.509 0.506]]\n",
            "Initial Conditions:\n",
            "There are 2 initial players\n",
            "Group splits: [1, 1, 1]\n",
            "Initial allocations: [array([0.501, 0.499]), array([0.491, 0.509]), array([0.494, 0.506])]\n",
            "Optimal decisions theta for each group (row-wise) [array([0, 1]), array([1, 1]), array([0.6, 0. ])]\n",
            "Final Conditions:\n",
            "\t\tPlayers decisions: [[-0.   1. ]\n",
            " [ 0.8  0.5]]\n",
            "\t\tGroup allocations: [[1. 0.]\n",
            " [0. 1.]\n",
            " [0. 1.]]\n",
            "[[0.486 0.505 0.503]\n",
            " [0.514 0.495 0.497]]\n",
            "Initial Conditions:\n",
            "There are 2 initial players\n",
            "Group splits: [1, 1, 1]\n",
            "Initial allocations: [array([0.486, 0.514]), array([0.505, 0.495]), array([0.503, 0.497])]\n",
            "Optimal decisions theta for each group (row-wise) [array([0, 1]), array([1, 1]), array([0.6, 0. ])]\n",
            "Final Conditions:\n",
            "\t\tPlayers decisions: [[ 0.6 -0. ]\n",
            " [ 0.5  1. ]]\n",
            "\t\tGroup allocations: [[0. 1.]\n",
            " [0. 1.]\n",
            " [1. 0.]]\n"
          ]
        },
        {
          "output_type": "display_data",
          "data": {
            "text/plain": [
              "<Figure size 1008x216 with 3 Axes>"
            ],
            "image/png": "[encoded data removed]"
          },
          "metadata": {}
        }
      ],
      "source": [
        "allocations = [np.array([[0.5, 0.5, 0.5], [0.5, 0.5, 0.5]]),\n",
        "               np.array([[0.496, 0.511, 0.498], [0.504, 0.489, 0.502]]),\n",
        "               np.array([[0.501, 0.491, 0.494], [0.499, 0.509, 0.506]]),\n",
        "               np.array([[0.486, 0.505, 0.503], [0.514, 0.495, 0.497]]),\n",
        "               ]\n",
        "with context:\n",
        "    fig, axs = plt.subplots(1,3, figsize = (14,3))\n",
        "    for t in range(4):\n",
        "        (average_risks_group, average_risks_player, all_risks) = run_trial(allocations[t])\n",
        "        if t >0:\n",
        "            lw = 1.5\n",
        "            if t == 1:\n",
        "                ls = ':'\n",
        "            if t == 2:\n",
        "                ls = '--'\n",
        "            if t ==3:\n",
        "                ls = '-.'\n",
        "            legend = False\n",
        "        else: \n",
        "            lw = 1\n",
        "            ls = '-'\n",
        "            legend = True\n",
        "        plot_short_experiment(average_risks_group, average_risks_player, all_risks, axs, ls=ls, lw = lw, legend=legend)\n",
        "    plt.tight_layout()\n",
        "fig.savefig('risk_dynamics.pdf')"
      ]
    },
    {
      "cell_type": "markdown",
      "source": [
        "## Increased competition experiments"
      ],
      "metadata": {
        "id": "RMIoQVZup5y4"
      }
    },
    {
      "cell_type": "code",
      "source": [
        "def run_competition_experiment(T, subpops, n_players_max=None, min_fn=noisy_quadratic_min):\n",
        "    n_players_init = len(subpops[0].alphas)\n",
        "    if n_players_max is None:\n",
        "        n_players_max = len(subpops)\n",
        "    print(\"Initial Conditions:\")\n",
        "    print(f\"There are {n_players_init} initial players\")\n",
        "    exp_out = run_experiment(T, subpops, rr=False, early_stop=True, verbose=False, min_fn = min_fn)\n",
        "    average_risks_group, average_risks_player, all_risks, all_thetas, all_alphas = exp_out\n",
        "    total_average_risks_group_over_time = {-1: average_risks_group}\n",
        "    for i in range(n_players_max - n_players_init):\n",
        "        print(i)\n",
        "        for subpop in subpops:\n",
        "            subpop.break_player(i)\n",
        "        exp_out = run_experiment(T, subpops, rr=False, early_stop=True, verbose=False, min_fn = min_fn)  \n",
        "        total_average_risks_group_over_time[i] = exp_out[0]\n",
        "    return(total_average_risks_group_over_time)"
      ],
      "metadata": {
        "id": "6-2JW8qLqHEH"
      },
      "execution_count": 75,
      "outputs": []
    },
    {
      "cell_type": "code",
      "source": [
        "seed = 10\n",
        "rng = np.random.default_rng(seed)\n",
        "T = 1000\n",
        "n_groups = 50\n",
        "n_players_init = 2\n",
        "d = 8\n",
        "# relative sizes\n",
        "beta = 1\n",
        "# initial allocations\n",
        "dist = rng.random(size=(n_players_init,n_groups))*0.0001\n",
        "alpha = np.ones(shape=(n_players_init,n_groups)) + dist\n",
        "# alpha_ij <- fraction of group j going to firm i\n",
        "alpha =  normalize(alpha, axis=0, norm='l1')\n",
        "\n",
        "# optimal thetas for each group\n",
        "theta_star = rng.normal(size=(n_groups, d))\n",
        "subpops = [QuadraticSubPop(theta_star[i,:], beta, alpha[:,i]) for i in range(n_groups)]"
      ],
      "metadata": {
        "id": "zlDbD5layVLi"
      },
      "execution_count": 167,
      "outputs": []
    },
    {
      "cell_type": "code",
      "source": [
        "res = run_competition_experiment(T, subpops, n_players_max=None, min_fn=noisy_quadratic_min)"
      ],
      "metadata": {
        "colab": {
          "base_uri": "https://localhost:8080/"
        },
        "id": "aI7nKox90MmQ",
        "outputId": "daf8b2b4-5541-4a56-e138-cc5d80e607b1"
      },
      "execution_count": 168,
      "outputs": [
        {
          "output_type": "stream",
          "name": "stdout",
          "text": [
            "Initial Conditions:\n",
            "There are 2 initial players\n",
            "0\n",
            "1\n",
            "2\n",
            "3\n",
            "4\n",
            "5\n",
            "6\n",
            "7\n",
            "8\n",
            "9\n",
            "10\n",
            "11\n",
            "12\n",
            "13\n",
            "14\n",
            "15\n",
            "16\n",
            "17\n",
            "18\n",
            "19\n",
            "20\n",
            "21\n",
            "22\n",
            "23\n",
            "24\n",
            "25\n",
            "26\n",
            "27\n",
            "28\n",
            "29\n",
            "30\n",
            "31\n",
            "32\n",
            "33\n",
            "34\n",
            "35\n",
            "36\n",
            "37\n",
            "38\n",
            "39\n",
            "40\n",
            "41\n",
            "42\n",
            "43\n",
            "44\n",
            "45\n",
            "46\n",
            "47\n"
          ]
        }
      ]
    },
    {
      "cell_type": "code",
      "source": [
        "average_res= {k:np.mean(np.array(v), 1) for k, v in res.items()}\n",
        "group_equilibrium_res = {k:v[-1] for k, v in res.items()}\n",
        "average_equilibrium_res= {k:v[0] for k, v in average_res.items()}\n",
        "break_times = {k:len(v) for k, v in average_res.items()}\n",
        "break_times = np.cumsum(list(break_times.values()))"
      ],
      "metadata": {
        "id": "kmgCC8iSA7-P"
      },
      "execution_count": 221,
      "outputs": []
    },
    {
      "cell_type": "code",
      "source": [
        "with context:\n",
        "    fig, axs = plt.subplots(1,2, figsize = (12,3))\n",
        "    axs[0].plot(n_groups*np.concatenate((list(average_res.values()))), c='k', lw =3, label = 'Total Risk')\n",
        "    for i, bt in enumerate(break_times):\n",
        "        if i == 0:\n",
        "            axs[0].axvline(x =bt, alpha = 0.9, ls = '--', lw = 2.5, label='Learners split')\n",
        "        else:\n",
        "            axs[0].axvline(x =bt, alpha = 0.9, ls = '--', lw = 1.5)\n",
        "    axs[0].legend(loc = 1)\n",
        "    axs[0].set_xlim([0, 1800])\n",
        "    eq_risks = np.array(list(group_equilibrium_res.values()))\n",
        "    axs[1].plot(range(n_players_init, n_players_init+len(eq_risks)), eq_risks[:,[1,2,3]], label ='Subpop')\n",
        "    axs[1].plot(range(n_players_init, n_players_init+len(eq_risks)), \n",
        "                list(average_equilibrium_res.values()), c='k', lw =3, label = 'Average Risk')\n",
        "    axs[1].legend()\n",
        "    axs[1].set_xlim([2, 20])\n",
        "    axs[0].set_xlabel('Time t')\n",
        "    axs[1].set_xlabel('Number of learners')\n",
        "    axs[0].set_ylabel('Risk')\n",
        "    axs[1].set_ylabel('Risk at equilibrium')\n",
        "    axs[0].set_title('Total risk over time')\n",
        "    axs[1].set_title('Risks reduction with number of learners')\n",
        "    h, l = axs[1].get_legend_handles_labels()\n",
        "    axs[1].legend(h, ['Subpop 1', 'Subpop 2', 'Subpop 3', 'Average Risk'])\n",
        "    plt.tight_layout()\n",
        "    fig.savefig('competition.pdf')"
      ],
      "metadata": {
        "colab": {
          "base_uri": "https://localhost:8080/",
          "height": 226
        },
        "id": "ADZorKiO0g9w",
        "outputId": "ccbefbf1-a540-4997-f9ff-2fc895c3a953"
      },
      "execution_count": 242,
      "outputs": [
        {
          "output_type": "display_data",
          "data": {
            "text/plain": [
              "<Figure size 864x216 with 2 Axes>"
            ],
            "image/png": "[encoded data removed]"
          },
          "metadata": {}
        }
      ]
    },
    {
      "cell_type": "code",
      "source": [
        "plt.axvline(x=break_times[0])"
      ],
      "metadata": {
        "colab": {
          "base_uri": "https://localhost:8080/",
          "height": 290
        },
        "id": "hly7uI_L7Sqf",
        "outputId": "cf014495-b04b-4e45-d19a-c2931de49fd6"
      },
      "execution_count": 223,
      "outputs": [
        {
          "output_type": "execute_result",
          "data": {
            "text/plain": [
              "<matplotlib.lines.Line2D at 0x7f4910ac8dd0>"
            ]
          },
          "metadata": {},
          "execution_count": 223
        },
        {
          "output_type": "display_data",
          "data": {
            "text/plain": [
              "<Figure size 432x288 with 1 Axes>"
            ],
            "image/png": "[encoded data removed]"
          },
          "metadata": {}
        }
      ]
    },
    {
      "cell_type": "code",
      "source": [
        "len(a[])"
      ],
      "metadata": {
        "colab": {
          "base_uri": "https://localhost:8080/"
        },
        "id": "iawSYoXMBIjU",
        "outputId": "3c7e998b-6873-42a1-b873-9f4b7fcd8eca"
      },
      "execution_count": 176,
      "outputs": [
        {
          "output_type": "execute_result",
          "data": {
            "text/plain": [
              "8"
            ]
          },
          "metadata": {},
          "execution_count": 176
        }
      ]
    },
    {
      "cell_type": "code",
      "source": [
        "np.cumsum(list(break_times.values()))"
      ],
      "metadata": {
        "colab": {
          "base_uri": "https://localhost:8080/"
        },
        "id": "NUTeTxkBKMH3",
        "outputId": "4f8b0700-e1bc-4f24-c502-ef14efbbb62a"
      },
      "execution_count": 220,
      "outputs": [
        {
          "output_type": "execute_result",
          "data": {
            "text/plain": [
              "array([ 251,  509,  831,  995, 1129, 1293, 1420, 1522, 1658, 1748, 1845,\n",
              "       1912, 1933, 1954, 1975, 1996, 2017, 2038, 2059, 2080, 2287, 2308,\n",
              "       2329, 2350, 2371, 2392, 2413, 2434, 2455, 2522, 2543, 2564, 2585,\n",
              "       2606, 2627, 2648, 2669, 2690, 2711, 2732, 2753, 2845, 2866, 2887,\n",
              "       2908, 2929, 2950, 2971, 2992])"
            ]
          },
          "metadata": {},
          "execution_count": 220
        }
      ]
    },
    {
      "cell_type": "code",
      "source": [
        ""
      ],
      "metadata": {
        "id": "nLcAVxb2MFMv"
      },
      "execution_count": null,
      "outputs": []
    }
  ],
  "metadata": {
    "colab": {
      "collapsed_sections": [
        "XcGJhGAWnP8Q",
        "eFrPj0D6ti17",
        "FU-nC530njwC"
      ],
      "name": "Multi Learner Performative Risk Reduction.ipynb",
      "provenance": []
    },
    "interpreter": {
      "hash": "31f2aee4e71d21fbe5cf8b01ff0e069b9275f58929596ceb00d14d90e3e16cd6"
    },
    "kernelspec": {
      "display_name": "Python 3.6.9 64-bit",
      "language": "python",
      "name": "python3"
    },
    "language_info": {
      "codemirror_mode": {
        "name": "ipython",
        "version": 3
      },
      "file_extension": ".py",
      "mimetype": "text/x-python",
      "name": "python",
      "nbconvert_exporter": "python",
      "pygments_lexer": "ipython3",
      "version": "3.6.9"
    }
  },
  "nbformat": 4,
  "nbformat_minor": 0
}